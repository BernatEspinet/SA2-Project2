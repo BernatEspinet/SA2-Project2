{
  "nbformat": 4,
  "nbformat_minor": 0,
  "metadata": {
    "colab": {
      "provenance": []
    },
    "kernelspec": {
      "name": "python3",
      "display_name": "Python 3"
    },
    "language_info": {
      "name": "python"
    }
  },
  "cells": [
    {
      "cell_type": "code",
      "execution_count": null,
      "metadata": {
        "id": "Dgdwf69cMe_j"
      },
      "outputs": [],
      "source": [
        "import numpy as np\n",
        "import matplotlib.pyplot as plt"
      ]
    },
    {
      "cell_type": "markdown",
      "source": [
        "##2."
      ],
      "metadata": {
        "id": "IVykmDrnRB0m"
      }
    },
    {
      "cell_type": "code",
      "source": [
        "sample_cloudy = []\n",
        "sample_sprinkler = []\n",
        "sample_rain = []\n",
        "sample_wet =[]\n",
        "\n",
        "# Define the conditional probability tables for each node\n",
        "cloudy_cpt = np.array([0.5, 0.5])\n",
        "sprinkler_cpt = np.array([[0.5, 0.5], [0.9, 0.1]])\n",
        "rain_cpt = np.array([[0.8, 0.2], [0.2, 0.8]])\n",
        "wet_cpt = np.array([[[0.99, 0.01], [0.1, 0.9]], [[0.1, 0.9], [0.01, 0.99]]])\n",
        "\n",
        "# Initialize the state of each node\n",
        "cloudy = np.random.choice([0, 1], p=cloudy_cpt)\n",
        "sprinkler = np.random.choice([0, 1], p=sprinkler_cpt[cloudy])\n",
        "rain = np.random.choice([0, 1], p=rain_cpt[cloudy])\n",
        "wet = np.random.choice([0, 1], p=wet_cpt[sprinkler, rain])\n",
        "\n",
        "# Number of iterations for the Gibbs sampler\n",
        "num_iterations = 10000\n",
        "\n",
        "# Gibbs sampling loop\n",
        "for i in range(num_iterations):\n",
        "    # Sample the state of each node based on the current state of the other nodes\n",
        "    cloudy = np.random.choice([0, 1], p=cloudy_cpt)\n",
        "    sprinkler = np.random.choice([0, 1], p=sprinkler_cpt[cloudy])\n",
        "    rain = np.random.choice([0, 1], p=rain_cpt[cloudy])\n",
        "    wet = np.random.choice([0, 1], p=wet_cpt[sprinkler, rain])\n",
        "    sample_cloudy.append(cloudy)\n",
        "    sample_sprinkler.append(sprinkler)\n",
        "    sample_rain.append(rain)\n",
        "    sample_wet.append(wet)"
      ],
      "metadata": {
        "id": "mwBw8M6Rj7jQ"
      },
      "execution_count": null,
      "outputs": []
    },
    {
      "cell_type": "code",
      "source": [
        "conditional_probability = [x for x, y in zip(sample_wet, sample_sprinkler) if y == 1]\n",
        "final_sample = []\n",
        "for sample in range(100):\n",
        "  if(conditional_probability[sample]==1 and sample_cloudy[sample]==1 and sample_rain[sample]==1):\n",
        "    final_sample.append(1)\n",
        "  else:\n",
        "    final_sample.append(0)\n",
        "print(\"P(R, C | S = T, W = T) = \",sum(final_sample)/len(final_sample))"
      ],
      "metadata": {
        "colab": {
          "base_uri": "https://localhost:8080/"
        },
        "id": "O-q7G9byPG4i",
        "outputId": "0d7c7de5-2a75-4ba1-9b65-b9b825c6c0d3"
      },
      "execution_count": null,
      "outputs": [
        {
          "output_type": "stream",
          "name": "stdout",
          "text": [
            "P(R, C | S = T, W = T) =  0.35\n"
          ]
        }
      ]
    },
    {
      "cell_type": "markdown",
      "source": [
        "##3."
      ],
      "metadata": {
        "id": "a9bOwcgCRDbJ"
      }
    },
    {
      "cell_type": "code",
      "source": [
        "conditional_probability = [x for x, y in zip(sample_wet, sample_sprinkler) if y == 1]\n",
        "final_sample = []\n",
        "for sample in range(100):\n",
        "  if(conditional_probability[sample]==1 and sample_rain[sample]==1):\n",
        "    final_sample.append(1)\n",
        "  else:\n",
        "    final_sample.append(0)\n",
        "print(\"P(R = T | S = T, W = T) = \",sum(final_sample)/len(final_sample))"
      ],
      "metadata": {
        "colab": {
          "base_uri": "https://localhost:8080/"
        },
        "id": "DGOGuw1xQ2iE",
        "outputId": "39b27535-c4f1-437d-8874-127fafbe0458"
      },
      "execution_count": null,
      "outputs": [
        {
          "output_type": "stream",
          "name": "stdout",
          "text": [
            "P(R = T | S = T, W = T) =  0.45\n"
          ]
        }
      ]
    },
    {
      "cell_type": "markdown",
      "source": [
        "##4.\n"
      ],
      "metadata": {
        "id": "w250kJT1pn9i"
      }
    },
    {
      "cell_type": "code",
      "source": [
        "sample_cloudy = []\n",
        "sample_sprinkler = []\n",
        "sample_rain = []\n",
        "sample_wet =[]\n",
        "\n",
        "# Define the conditional probability tables for each node\n",
        "cloudy_cpt = np.array([0.5, 0.5])\n",
        "sprinkler_cpt = np.array([[0.5, 0.5], [0.9, 0.1]])\n",
        "rain_cpt = np.array([[0.8, 0.2], [0.2, 0.8]])\n",
        "wet_cpt = np.array([[[0.99, 0.01], [0.1, 0.9]], [[0.1, 0.9], [0.01, 0.99]]])\n",
        "\n",
        "# Initialize the state of each node\n",
        "cloudy = np.random.choice([0, 1], p=cloudy_cpt)\n",
        "sprinkler = np.random.choice([0, 1], p=sprinkler_cpt[cloudy])\n",
        "rain = np.random.choice([0, 1], p=rain_cpt[cloudy])\n",
        "wet = np.random.choice([0, 1], p=wet_cpt[sprinkler, rain])\n",
        "\n",
        "# Number of iterations for the Gibbs sampler\n",
        "num_iterations = 500000\n",
        "\n",
        "# Gibbs sampling loop\n",
        "for i in range(num_iterations):\n",
        "    # Sample the state of each node based on the current state of the other nodes\n",
        "    cloudy = np.random.choice([0, 1], p=cloudy_cpt)\n",
        "    sprinkler = np.random.choice([0, 1], p=sprinkler_cpt[cloudy])\n",
        "    rain = np.random.choice([0, 1], p=rain_cpt[cloudy])\n",
        "    wet = np.random.choice([0, 1], p=wet_cpt[sprinkler, rain])\n",
        "    sample_cloudy.append(cloudy)\n",
        "    sample_sprinkler.append(sprinkler)\n",
        "    sample_rain.append(rain)\n",
        "    sample_wet.append(wet)"
      ],
      "metadata": {
        "id": "Y2XKouJkkbWz"
      },
      "execution_count": null,
      "outputs": []
    },
    {
      "cell_type": "markdown",
      "source": [
        "##5."
      ],
      "metadata": {
        "id": "ERYDZfYjn7DB"
      }
    },
    {
      "cell_type": "code",
      "source": [
        "def get_relative_freq(sample_list,t):\n",
        "  relative_freq = []\n",
        "  for index in range(1,t):\n",
        "    sublist = sample_list[:index]\n",
        "    relative_freq.append(sum(sublist)/len(sublist))\n",
        "  return relative_freq"
      ],
      "metadata": {
        "id": "s6GeHgedq1fd"
      },
      "execution_count": null,
      "outputs": []
    },
    {
      "cell_type": "code",
      "source": [
        "plt.plot(get_relative_freq(sample_rain,1000))\n",
        "plt.plot(get_relative_freq(sample_cloudy,1000))"
      ],
      "metadata": {
        "colab": {
          "base_uri": "https://localhost:8080/",
          "height": 282
        },
        "id": "XuexQZ4Rra6R",
        "outputId": "282cf59d-4d65-4aa6-859c-75065d052b36"
      },
      "execution_count": null,
      "outputs": [
        {
          "output_type": "execute_result",
          "data": {
            "text/plain": [
              "[<matplotlib.lines.Line2D at 0x7fb74cc78bb0>]"
            ]
          },
          "metadata": {},
          "execution_count": 10
        },
        {
          "output_type": "display_data",
          "data": {
            "text/plain": [
              "<Figure size 432x288 with 1 Axes>"
            ],
            "image/png": "[encoded data removed]"
          },
          "metadata": {
            "needs_background": "light"
          }
        }
      ]
    },
    {
      "cell_type": "code",
      "source": [
        "sample_cloudy = []\n",
        "sample_sprinkler = []\n",
        "sample_rain = []\n",
        "sample_wet =[]\n",
        "\n",
        "# Define the conditional probability tables for each node\n",
        "cloudy_cpt = np.array([0.5, 0.5])\n",
        "sprinkler_cpt = np.array([[0.5, 0.5], [0.9, 0.1]])\n",
        "rain_cpt = np.array([[0.8, 0.2], [0.2, 0.8]])\n",
        "wet_cpt = np.array([[[0.99, 0.01], [0.1, 0.9]], [[0.1, 0.9], [0.01, 0.99]]])\n",
        "\n",
        "# Initialize the state of each node\n",
        "cloudy = np.random.choice([0, 1], p=cloudy_cpt)\n",
        "sprinkler = np.random.choice([0, 1], p=sprinkler_cpt[cloudy])\n",
        "rain = np.random.choice([0, 1], p=rain_cpt[cloudy])\n",
        "wet = np.random.choice([0, 1], p=wet_cpt[sprinkler, rain])\n",
        "\n",
        "# Number of iterations for the Gibbs sampler\n",
        "num_iterations = 500000\n",
        "\n",
        "# Gibbs sampling loop\n",
        "for i in range(num_iterations):\n",
        "    # Sample the state of each node based on the current state of the other nodes\n",
        "    cloudy = np.random.choice([0, 1], p=cloudy_cpt)\n",
        "    sprinkler = np.random.choice([0, 1], p=sprinkler_cpt[cloudy])\n",
        "    rain = np.random.choice([0, 1], p=rain_cpt[cloudy])\n",
        "    wet = np.random.choice([0, 1], p=wet_cpt[sprinkler, rain])\n",
        "    sample_cloudy.append(cloudy)\n",
        "    sample_sprinkler.append(sprinkler)\n",
        "    sample_rain.append(rain)\n",
        "    sample_wet.append(wet)"
      ],
      "metadata": {
        "id": "p6CX-lEFlMfy"
      },
      "execution_count": null,
      "outputs": []
    },
    {
      "cell_type": "code",
      "source": [
        "plt.plot(get_relative_freq(sample_rain,1000))\n",
        "plt.plot(get_relative_freq(sample_cloudy,1000))"
      ],
      "metadata": {
        "colab": {
          "base_uri": "https://localhost:8080/",
          "height": 282
        },
        "id": "R1htt23Ltnsl",
        "outputId": "aedf1036-169a-4b63-c12c-8765193c55ed"
      },
      "execution_count": null,
      "outputs": [
        {
          "output_type": "execute_result",
          "data": {
            "text/plain": [
              "[<matplotlib.lines.Line2D at 0x7fb74d27d520>]"
            ]
          },
          "metadata": {},
          "execution_count": 41
        },
        {
          "output_type": "display_data",
          "data": {
            "text/plain": [
              "<Figure size 432x288 with 1 Axes>"
            ],
            "image/png": "[encoded data removed]"
          },
          "metadata": {
            "needs_background": "light"
          }
        }
      ]
    },
    {
      "cell_type": "markdown",
      "source": [
        "both plots show that the mean value over t, it converges into their expected value, 0.5"
      ],
      "metadata": {
        "id": "9Vyz28VFuG06"
      }
    },
    {
      "cell_type": "markdown",
      "source": [
        "##6."
      ],
      "metadata": {
        "id": "DiPcSyLwnp5g"
      }
    },
    {
      "cell_type": "code",
      "source": [
        "def get_auto_correlation(sample,k):\n",
        "  auto_corr = []\n",
        "  for index in range(len(sample)):\n",
        "    correlation = 0\n",
        "    value = sample[index]\n",
        "    lower = index - k\n",
        "    upper = index + k\n",
        "    if(lower<0):\n",
        "      lower = 0\n",
        "    if(upper>=len(sample)):\n",
        "      upper = len(sample)-1\n",
        "    sublist = sample[lower:upper]\n",
        "    for item in sublist:\n",
        "      if(item!=value & value==0):\n",
        "        correlation+=1/k\n",
        "      elif(item!=value & value==1):\n",
        "        correlation-=1/k\n",
        "    auto_corr.append(correlation)\n",
        "  return auto_corr\n",
        "list_corr1 = get_auto_correlation(sample_rain[0:1000],5)\n",
        "list_corr2 = get_auto_correlation(sample_cloudy[0:1000],5)"
      ],
      "metadata": {
        "id": "75DNF7rkufDB"
      },
      "execution_count": null,
      "outputs": []
    },
    {
      "cell_type": "code",
      "source": [
        "plt.hist(list_corr1)\n",
        "plt.hist(list_corr2)"
      ],
      "metadata": {
        "colab": {
          "base_uri": "https://localhost:8080/",
          "height": 334
        },
        "id": "WZ3rAmfdxvlX",
        "outputId": "871f51f5-dec9-4fe1-b35b-d2828ac343fc"
      },
      "execution_count": null,
      "outputs": [
        {
          "output_type": "execute_result",
          "data": {
            "text/plain": [
              "(array([ 58., 182., 201.,  39.,  19.,  49.,  95., 234., 112.,  11.]),\n",
              " array([-1.6 , -1.26, -0.92, -0.58, -0.24,  0.1 ,  0.44,  0.78,  1.12,\n",
              "         1.46,  1.8 ]),\n",
              " <a list of 10 Patch objects>)"
            ]
          },
          "metadata": {},
          "execution_count": 43
        },
        {
          "output_type": "display_data",
          "data": {
            "text/plain": [
              "<Figure size 432x288 with 1 Axes>"
            ],
            "image/png": "[encoded data removed]"
          },
          "metadata": {
            "needs_background": "light"
          }
        }
      ]
    },
    {
      "cell_type": "code",
      "source": [
        "print(\"Mean autocorrelation of Rain: \",sum(list_corr1)/len(list_corr1))\n",
        "print(\"Mean autocorrelation of Cloudy: \",sum(list_corr2)/len(list_corr2))"
      ],
      "metadata": {
        "colab": {
          "base_uri": "https://localhost:8080/"
        },
        "id": "qRrkMtCX1b87",
        "outputId": "7696d286-3b8e-4620-fe24-aba98b0785df"
      },
      "execution_count": null,
      "outputs": [
        {
          "output_type": "stream",
          "name": "stdout",
          "text": [
            "Mean autocorrelation of Rain:  0.0006000000000000007\n",
            "Mean autocorrelation of Cloudy:  0.00020000000000000394\n"
          ]
        }
      ]
    },
    {
      "cell_type": "markdown",
      "source": [
        "We can see, the mean is positive meaning the auto-correlation of each sample with their 5 neighbors is positive"
      ],
      "metadata": {
        "id": "aMS0clM7168Y"
      }
    },
    {
      "cell_type": "code",
      "source": [
        "mean_auto_corr_rain =[]\n",
        "mean_auto_corr_cloudy =[]\n",
        "for i in range(20):\n",
        "  mean_auto_corr_rain.append(sum(get_auto_correlation(sample_rain[0:1000],i))/len(get_auto_correlation(sample_rain[0:1000],i)))\n",
        "  mean_auto_corr_cloudy.append(sum(get_auto_correlation(sample_cloudy[0:1000],i))/len(get_auto_correlation(sample_cloudy[0:1000],i)))"
      ],
      "metadata": {
        "id": "tpKY4jmt-7lx"
      },
      "execution_count": null,
      "outputs": []
    },
    {
      "cell_type": "code",
      "source": [
        "plt.plot(mean_auto_corr_rain)\n",
        "plt.plot(mean_auto_corr_cloudy)"
      ],
      "metadata": {
        "colab": {
          "base_uri": "https://localhost:8080/",
          "height": 282
        },
        "id": "VdT95JFK_NIs",
        "outputId": "89cd0cdb-ce8c-4bd7-98f5-cf01f5614d44"
      },
      "execution_count": null,
      "outputs": [
        {
          "output_type": "execute_result",
          "data": {
            "text/plain": [
              "[<matplotlib.lines.Line2D at 0x7fb74c208220>]"
            ]
          },
          "metadata": {},
          "execution_count": 46
        },
        {
          "output_type": "display_data",
          "data": {
            "text/plain": [
              "<Figure size 432x288 with 1 Axes>"
            ],
            "image/png": "[encoded data removed]"
          },
          "metadata": {
            "needs_background": "light"
          }
        }
      ]
    },
    {
      "cell_type": "markdown",
      "source": [
        "The plots of mean correlation over k neighbors sugests that to get independent samples we should sample on a 10 samples interval to get close to independent samples."
      ],
      "metadata": {
        "id": "fT3R-nCG_1kx"
      }
    },
    {
      "cell_type": "markdown",
      "source": [
        "##7."
      ],
      "metadata": {
        "id": "nVywb-XujYI6"
      }
    },
    {
      "cell_type": "code",
      "source": [
        "sample_cloudy = []\n",
        "sample_sprinkler = []\n",
        "sample_rain = []\n",
        "sample_wet =[]\n",
        "\n",
        "# Define the conditional probability tables for each node\n",
        "cloudy_cpt = np.array([0.5, 0.5])\n",
        "sprinkler_cpt = np.array([[0.5, 0.5], [0.9, 0.1]])\n",
        "rain_cpt = np.array([[0.8, 0.2], [0.2, 0.8]])\n",
        "wet_cpt = np.array([[[0.99, 0.01], [0.1, 0.9]], [[0.1, 0.9], [0.01, 0.99]]])\n",
        "\n",
        "# Initialize the state of each node\n",
        "cloudy = np.random.choice([0, 1], p=cloudy_cpt)\n",
        "sprinkler = np.random.choice([0, 1], p=sprinkler_cpt[cloudy])\n",
        "rain = np.random.choice([0, 1], p=rain_cpt[cloudy])\n",
        "wet = np.random.choice([0, 1], p=wet_cpt[sprinkler, rain])\n",
        "\n",
        "# Number of iterations for the Gibbs sampler\n",
        "num_iterations = 10000\n",
        "burn_in = 1000\n",
        "thin_out = 10\n",
        "\n",
        "# Gibbs sampling loop\n",
        "for i in range(num_iterations):\n",
        "    # Sample the state of each node based on the current state of the other nodes\n",
        "    cloudy = np.random.choice([0, 1], p=cloudy_cpt)\n",
        "    sprinkler = np.random.choice([0, 1], p=sprinkler_cpt[cloudy])\n",
        "    rain = np.random.choice([0, 1], p=rain_cpt[cloudy])\n",
        "    wet = np.random.choice([0, 1], p=wet_cpt[sprinkler, rain])\n",
        "    if(i>=burn_in & i%thin_out==0):\n",
        "      sample_cloudy.append(cloudy)\n",
        "      sample_sprinkler.append(sprinkler)\n",
        "      sample_rain.append(rain)\n",
        "      sample_wet.append(wet)"
      ],
      "metadata": {
        "id": "OYXs1vVFjXbW"
      },
      "execution_count": null,
      "outputs": []
    },
    {
      "cell_type": "markdown",
      "source": [
        "##8."
      ],
      "metadata": {
        "id": "gbCXrG1_ojm3"
      }
    },
    {
      "cell_type": "code",
      "source": [
        "conditional_probability = [x for x, y in zip(sample_wet, sample_sprinkler) if y == 1]\n",
        "final_sample = []\n",
        "for sample in range(100):\n",
        "  if(conditional_probability[sample]==1 and sample_rain[sample]==1):\n",
        "    final_sample.append(1)\n",
        "  else:\n",
        "    final_sample.append(0)\n",
        "print(\"P(R = T | S = T, W = T) = \",sum(final_sample)/len(final_sample))"
      ],
      "metadata": {
        "colab": {
          "base_uri": "https://localhost:8080/"
        },
        "id": "bUY0M7AEgvhw",
        "outputId": "9783d277-5fa0-44e3-c8dd-f59582202a3e"
      },
      "execution_count": null,
      "outputs": [
        {
          "output_type": "stream",
          "name": "stdout",
          "text": [
            "P(R = T | S = T, W = T) =  0.46\n"
          ]
        }
      ]
    },
    {
      "cell_type": "markdown",
      "source": [
        "The new probability computed (0.46) is higher than the one without burn-in and thining-out (0.45), but the diference isn't meaningfull."
      ],
      "metadata": {
        "id": "aNMYjL0PpZFs"
      }
    },
    {
      "cell_type": "markdown",
      "source": [
        "##9."
      ],
      "metadata": {
        "id": "tzekaLU3qtsp"
      }
    },
    {
      "cell_type": "markdown",
      "source": [
        "By computing analiticly the probability of P(R = T | S = T, W = T) = 0.439 (proof in pdf) so for the small sample size of 100, the gibbs sampler with thining-out and burn-in performed worse than the vanila in terms of guessing the ground truth."
      ],
      "metadata": {
        "id": "f-4FAPJQqwxR"
      }
    },
    {
      "cell_type": "code",
      "source": [
        "#Experiment for larger sample size\n",
        "sample_cloudy = []\n",
        "sample_sprinkler = []\n",
        "sample_rain = []\n",
        "sample_wet =[]\n",
        "\n",
        "# Define the conditional probability tables for each node\n",
        "cloudy_cpt = np.array([0.5, 0.5])\n",
        "sprinkler_cpt = np.array([[0.5, 0.5], [0.9, 0.1]])\n",
        "rain_cpt = np.array([[0.8, 0.2], [0.2, 0.8]])\n",
        "wet_cpt = np.array([[[0.99, 0.01], [0.1, 0.9]], [[0.1, 0.9], [0.01, 0.99]]])\n",
        "\n",
        "# Initialize the state of each node\n",
        "cloudy = np.random.choice([0, 1], p=cloudy_cpt)\n",
        "sprinkler = np.random.choice([0, 1], p=sprinkler_cpt[cloudy])\n",
        "rain = np.random.choice([0, 1], p=rain_cpt[cloudy])\n",
        "wet = np.random.choice([0, 1], p=wet_cpt[sprinkler, rain])\n",
        "\n",
        "# Number of iterations for the Gibbs sampler\n",
        "num_iterations = 10000\n",
        "\n",
        "# Gibbs sampling loop\n",
        "for i in range(num_iterations):\n",
        "    # Sample the state of each node based on the current state of the other nodes\n",
        "    cloudy = np.random.choice([0, 1], p=cloudy_cpt)\n",
        "    sprinkler = np.random.choice([0, 1], p=sprinkler_cpt[cloudy])\n",
        "    rain = np.random.choice([0, 1], p=rain_cpt[cloudy])\n",
        "    wet = np.random.choice([0, 1], p=wet_cpt[sprinkler, rain])\n",
        "    sample_cloudy.append(cloudy)\n",
        "    sample_sprinkler.append(sprinkler)\n",
        "    sample_rain.append(rain)\n",
        "    sample_wet.append(wet)\n",
        "\n",
        "conditional_probability = [x for x, y in zip(sample_wet, sample_sprinkler) if y == 1]\n",
        "final_sample = []\n",
        "for sample in range(1000):\n",
        "  if(conditional_probability[sample]==1 and sample_rain[sample]==1):\n",
        "    final_sample.append(1)\n",
        "  else:\n",
        "    final_sample.append(0)\n",
        "print(\"Vanila:\",sum(final_sample)/len(final_sample))\n",
        "\n",
        "sample_cloudy = []\n",
        "sample_sprinkler = []\n",
        "sample_rain = []\n",
        "sample_wet =[]\n",
        "\n",
        "# Define the conditional probability tables for each node\n",
        "cloudy_cpt = np.array([0.5, 0.5])\n",
        "sprinkler_cpt = np.array([[0.5, 0.5], [0.9, 0.1]])\n",
        "rain_cpt = np.array([[0.8, 0.2], [0.2, 0.8]])\n",
        "wet_cpt = np.array([[[0.99, 0.01], [0.1, 0.9]], [[0.1, 0.9], [0.01, 0.99]]])\n",
        "\n",
        "# Initialize the state of each node\n",
        "cloudy = np.random.choice([0, 1], p=cloudy_cpt)\n",
        "sprinkler = np.random.choice([0, 1], p=sprinkler_cpt[cloudy])\n",
        "rain = np.random.choice([0, 1], p=rain_cpt[cloudy])\n",
        "wet = np.random.choice([0, 1], p=wet_cpt[sprinkler, rain])\n",
        "\n",
        "# Number of iterations for the Gibbs sampler\n",
        "num_iterations = 10000\n",
        "burn_in = 1000\n",
        "thin_out = 10\n",
        "\n",
        "# Gibbs sampling loop\n",
        "for i in range(num_iterations):\n",
        "    # Sample the state of each node based on the current state of the other nodes\n",
        "    cloudy = np.random.choice([0, 1], p=cloudy_cpt)\n",
        "    sprinkler = np.random.choice([0, 1], p=sprinkler_cpt[cloudy])\n",
        "    rain = np.random.choice([0, 1], p=rain_cpt[cloudy])\n",
        "    wet = np.random.choice([0, 1], p=wet_cpt[sprinkler, rain])\n",
        "    if(i>=burn_in & i%thin_out==0):\n",
        "      sample_cloudy.append(cloudy)\n",
        "      sample_sprinkler.append(sprinkler)\n",
        "      sample_rain.append(rain)\n",
        "      sample_wet.append(wet)\n",
        "\n",
        "conditional_probability = [x for x, y in zip(sample_wet, sample_sprinkler) if y == 1]\n",
        "final_sample = []\n",
        "for sample in range(1000):\n",
        "  if(conditional_probability[sample]==1 and sample_rain[sample]==1):\n",
        "    final_sample.append(1)\n",
        "  else:\n",
        "    final_sample.append(0)\n",
        "print(\"Burn-in and thining-out:\",sum(final_sample)/len(final_sample))"
      ],
      "metadata": {
        "colab": {
          "base_uri": "https://localhost:8080/"
        },
        "id": "-qyWSWZZDq3C",
        "outputId": "9ea7c2ef-3df7-4d0a-fe52-60ec511121d6"
      },
      "execution_count": null,
      "outputs": [
        {
          "output_type": "stream",
          "name": "stdout",
          "text": [
            "Vanila: 0.476\n",
            "Burn-in and thining-out: 0.455\n"
          ]
        }
      ]
    },
    {
      "cell_type": "markdown",
      "source": [
        "We can now apreciate the benefits of performing burn-in and thining-out since the probability computed is closer to the ground truth"
      ],
      "metadata": {
        "id": "3rHfkaCvEjP4"
      }
    },
    {
      "cell_type": "markdown",
      "source": [
        "##Extra.\n"
      ],
      "metadata": {
        "id": "EulFB1q14z-E"
      }
    },
    {
      "cell_type": "code",
      "source": [
        "def sample_chain(num_iterations,burn_in,thin_out):\n",
        "  sample_cloudy = []\n",
        "  sample_sprinkler = []\n",
        "  sample_rain = []\n",
        "  sample_wet =[]\n",
        "\n",
        "  # Define the conditional probability tables for each node\n",
        "  cloudy_cpt = np.array([0.5, 0.5])\n",
        "  sprinkler_cpt = np.array([[0.5, 0.5], [0.9, 0.1]])\n",
        "  rain_cpt = np.array([[0.8, 0.2], [0.2, 0.8]])\n",
        "  wet_cpt = np.array([[[0.99, 0.01], [0.1, 0.9]], [[0.1, 0.9], [0.01, 0.99]]])\n",
        "\n",
        "  # Initialize the state of each node\n",
        "  cloudy = np.random.choice([0, 1], p=cloudy_cpt)\n",
        "  sprinkler = np.random.choice([0, 1], p=sprinkler_cpt[cloudy])\n",
        "  rain = np.random.choice([0, 1], p=rain_cpt[cloudy])\n",
        "  wet = np.random.choice([0, 1], p=wet_cpt[sprinkler, rain])\n",
        "\n",
        "  # Gibbs sampling loop\n",
        "  for i in range(num_iterations):\n",
        "      # Sample the state of each node based on the current state of the other nodes\n",
        "      cloudy = np.random.choice([0, 1], p=cloudy_cpt)\n",
        "      sprinkler = np.random.choice([0, 1], p=sprinkler_cpt[cloudy])\n",
        "      rain = np.random.choice([0, 1], p=rain_cpt[cloudy])\n",
        "      wet = np.random.choice([0, 1], p=wet_cpt[sprinkler, rain])\n",
        "      if(i>=burn_in & i%thin_out==0):\n",
        "        sample_cloudy.append(cloudy)\n",
        "        sample_sprinkler.append(sprinkler)\n",
        "        sample_rain.append(rain)\n",
        "        sample_wet.append(wet)\n",
        "  sample_size = len(sample_cloudy)\n",
        "  return(sample_cloudy,sample_sprinkler,sample_rain,sample_wet,sample_size)"
      ],
      "metadata": {
        "id": "2HphTnuw5FdU"
      },
      "execution_count": null,
      "outputs": []
    },
    {
      "cell_type": "code",
      "source": [
        "chains = 10\n",
        "niter = 10000\n",
        "means = []\n",
        "variances = []\n",
        "for i in range(chains):\n",
        "  _,_,_,sample_wet,nsamples = sample_chain(niter,1000,10)\n",
        "  means.append(np.mean(sample_wet))\n",
        "  variances.append(np.var(sample_wet))\n",
        "\n",
        "# Calculate the within-chain variance and the between-chain variance\n",
        "W = np.mean(variances, axis=0)\n",
        "B = np.mean(means, axis=0)\n",
        "\n",
        "# Calculate the pooled estimate of the variance\n",
        "V = W*(nsamples-1)/nsamples + B*nsamples/(nsamples-1)\n",
        "\n",
        "# Calculate the potential scale reduction factor (PSRF)\n",
        "R = np.sqrt(V/W)\n",
        "print(\"PSRF: \",R)\n",
        "if (R < 1.1):\n",
        "    print(\"Chains have converged.\")\n",
        "else:\n",
        "    print(\"Chains have not yet converged.\")"
      ],
      "metadata": {
        "colab": {
          "base_uri": "https://localhost:8080/"
        },
        "id": "r0vnijnn45xD",
        "outputId": "6d9576a6-f4db-4d8f-d892-3d57e91393c2"
      },
      "execution_count": null,
      "outputs": [
        {
          "output_type": "stream",
          "name": "stdout",
          "text": [
            "PSRF:  1.965842711326772\n",
            "Chains have not yet converged.\n"
          ]
        }
      ]
    },
    {
      "cell_type": "markdown",
      "source": [
        "Using my gibbs sampler with thining out and burn it, I was unable to make it pass the Gelman and Rubin test, this means that the samples collected from the different chains are not yet representative of the true posterior distribution."
      ],
      "metadata": {
        "id": "1qbNTtJG7RAa"
      }
    }
  ]
}